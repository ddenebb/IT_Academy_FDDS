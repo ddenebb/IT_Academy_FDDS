{
  "metadata": {
    "language_info": {
      "codemirror_mode": {
        "name": "python",
        "version": 3
      },
      "file_extension": ".py",
      "mimetype": "text/x-python",
      "name": "python",
      "nbconvert_exporter": "python",
      "pygments_lexer": "ipython3",
      "version": "3.8"
    },
    "kernelspec": {
      "name": "python",
      "display_name": "Python (Pyodide)",
      "language": "python"
    }
  },
  "nbformat_minor": 4,
  "nbformat": 4,
  "cells": [
    {
      "cell_type": "code",
      "source": "#Exercici 1\nmonths = [[\"January\", \"February\", \"March\"],[\"April\", \"May\", \"June\"],[\"July\", \"August\", \"September\"],[\"October\", \"November\", \"December\"]]\nprint(months)",
      "metadata": {
        "trusted": true
      },
      "execution_count": 33,
      "outputs": [
        {
          "name": "stdout",
          "text": "[['January', 'February', 'March'], ['April', 'May', 'June'], ['July', 'August', 'September'], ['October', 'November', 'December']]\n",
          "output_type": "stream"
        }
      ]
    },
    {
      "cell_type": "code",
      "source": "",
      "metadata": {
        "trusted": true
      },
      "execution_count": 39,
      "outputs": [
        {
          "name": "stdout",
          "text": "['January', 'February', 'March']\n['April', 'May', 'June']\n['July', 'August', 'September']\n['October', 'November', 'December']\n",
          "output_type": "stream"
        }
      ]
    },
    {
      "cell_type": "code",
      "source": "#Exercici 2\nT1 = months[0]\nmonth = T1[1]\nprint(month)\n\nT1 = months[0]\nprint(T1)\n\nT3 = months[2]\nT4 = months[3]\nmonths_sel = [T3[2],T4[0]]\nprint(months_sel)\n    ",
      "metadata": {
        "trusted": true
      },
      "execution_count": 54,
      "outputs": [
        {
          "name": "stdout",
          "text": "February\n['January', 'February', 'March']\n['September', 'October']\n",
          "output_type": "stream"
        }
      ]
    },
    {
      "cell_type": "code",
      "source": "#Exercici 3\nnumbers= [7,4,5,1,34,56,3,8,97,46, 38,4,4,3,3,3,3,21,2,6,4,3,3,44,4,4,4,5,6,8,9,4,4]\nprint(numbers)\n\nnumber_of_elements = len(numbers)\nprint(number_of_elements)\n\ndef get_number_of_elements(numbers):\n    count = 0\n    for element in numbers:\n        count += 1\n    return count\n\nprint(\"Number of elements in the list: \", get_number_of_elements(numbers))\n\nx = 0\nfor i in numbers:\n    if i == 3:\n        x= x+1   \nprint(x)\n\ndef get_ocurrences(numbers, number):\n    count = 0\n    for i in numbers:\n        if i == number:\n            count += 1\n    return count\n\nprint(\"Number of ocurrences in the list: \", get_ocurrences(numbers, 3))\n\nx = 0\nfor i in numbers:\n    if i == 3 or i == 4:\n        x= x+1   \nprint(x)\n\ndef get_ocurrences(numbers, number_a, number_b):\n    count = 0\n    for i in numbers:\n        if i == number_a or i == number_b:\n            count += 1\n    return count\n\nprint(\"Number of ocurrences in the list: \", get_ocurrences(numbers, 3, 4))\n\nprint(max(numbers))\n\nprint(sorted(numbers)[:3])\n\ndef minmax(numbers):\n    min_val = min(numbers)\n    max_val = max(numbers)\n\n    return (min_val, max_val)\nprint(minmax(numbers))",
      "metadata": {
        "trusted": true
      },
      "execution_count": 152,
      "outputs": [
        {
          "name": "stdout",
          "text": "[7, 4, 5, 1, 34, 56, 3, 8, 97, 46, 38, 4, 4, 3, 3, 3, 3, 21, 2, 6, 4, 3, 3, 44, 4, 4, 4, 5, 6, 8, 9, 4, 4]\n33\nNumber of elements in the list:  33\n7\nNumber of ocurrences in the list:  7\n16\nNumber of ocurrences in the list:  16\n97\n[1, 2, 3]\n(1, 97)\n",
          "output_type": "stream"
        }
      ]
    },
    {
      "cell_type": "code",
      "source": "#Exercici 3\ncompra = { \"Pomes\" : {\"Qty\": 5, \"€\": 0.42}, \"Peres\" : {\"Qty\": 3, \"€\": 0.66} } \n    \ncompra[\"Mandarines\"] = {\"Qty\": 4, \"€\": 0.6}\nprint(compra)",
      "metadata": {
        "trusted": true
      },
      "execution_count": 154,
      "outputs": [
        {
          "name": "stdout",
          "text": "{'Pomes': {'Qty': 5, '€': 0.42}, 'Peres': {'Qty': 3, '€': 0.66}, 'Mandarines': {'Qty': 4, '€': 0.6}}\n",
          "output_type": "stream"
        }
      ]
    },
    {
      "cell_type": "code",
      "source": "values = compra['Peres']\na = values['Qty']\nb = values['€']\nprice = a*b\nprint(price)",
      "metadata": {
        "trusted": true
      },
      "execution_count": 163,
      "outputs": [
        {
          "name": "stdout",
          "text": "1.98\n",
          "output_type": "stream"
        }
      ]
    },
    {
      "cell_type": "code",
      "source": "def get_price(compra):\n    values = compra['Peres']\n    a = values['Qty']\n    b = values['€']\n    price = a*b\n    return price\n\nprint(\"Price is \", get_price(compra))",
      "metadata": {
        "trusted": true
      },
      "execution_count": 164,
      "outputs": [
        {
          "name": "stdout",
          "text": "Price is  1.98\n",
          "output_type": "stream"
        }
      ]
    },
    {
      "cell_type": "code",
      "source": "def number_of_items(compra):\n    quantity = 0\n    a = values['Qty']\n    key = 0\n    for i in compra:\n        key = compra[0]+1\n        quantity = quantity + a\n        return quantity\n    \n\nprint(\"Number of fruit items is \", number_of_items(compra))",
      "metadata": {
        "trusted": true
      },
      "execution_count": 170,
      "outputs": [
        {
          "ename": "<class 'KeyError'>",
          "evalue": "0",
          "traceback": [
            "\u001b[0;31m---------------------------------------------------------------------------\u001b[0m",
            "\u001b[0;31mKeyError\u001b[0m                                  Traceback (most recent call last)",
            "Cell \u001b[0;32mIn [170], line 11\u001b[0m\n\u001b[1;32m      7\u001b[0m         quantity \u001b[38;5;241m=\u001b[39m quantity \u001b[38;5;241m+\u001b[39m a\n\u001b[1;32m      8\u001b[0m         \u001b[38;5;28;01mreturn\u001b[39;00m quantity\n\u001b[0;32m---> 11\u001b[0m \u001b[38;5;28mprint\u001b[39m(\u001b[38;5;124m\"\u001b[39m\u001b[38;5;124mNumber of fruit items is \u001b[39m\u001b[38;5;124m\"\u001b[39m, \u001b[43mnumber_of_items\u001b[49m\u001b[43m(\u001b[49m\u001b[43mcompra\u001b[49m\u001b[43m)\u001b[49m)\n",
            "Cell \u001b[0;32mIn [170], line 6\u001b[0m, in \u001b[0;36mnumber_of_items\u001b[0;34m(compra)\u001b[0m\n\u001b[1;32m      4\u001b[0m key \u001b[38;5;241m=\u001b[39m \u001b[38;5;241m0\u001b[39m\n\u001b[1;32m      5\u001b[0m \u001b[38;5;28;01mfor\u001b[39;00m i \u001b[38;5;129;01min\u001b[39;00m compra:\n\u001b[0;32m----> 6\u001b[0m     key \u001b[38;5;241m=\u001b[39m \u001b[43mcompra\u001b[49m\u001b[43m[\u001b[49m\u001b[38;5;241;43m0\u001b[39;49m\u001b[43m]\u001b[49m\u001b[38;5;241m+\u001b[39m\u001b[38;5;241m1\u001b[39m\n\u001b[1;32m      7\u001b[0m     quantity \u001b[38;5;241m=\u001b[39m quantity \u001b[38;5;241m+\u001b[39m a\n\u001b[1;32m      8\u001b[0m     \u001b[38;5;28;01mreturn\u001b[39;00m quantity\n",
            "\u001b[0;31mKeyError\u001b[0m: 0"
          ],
          "output_type": "error"
        }
      ]
    },
    {
      "cell_type": "code",
      "source": "",
      "metadata": {},
      "execution_count": null,
      "outputs": []
    }
  ]
}